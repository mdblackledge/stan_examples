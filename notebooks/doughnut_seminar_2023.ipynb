{
  "cells": [
    {
      "cell_type": "markdown",
      "id": "703766f3",
      "metadata": {
        "id": "703766f3"
      },
      "source": [
        "## Doughnut seminar examples\n",
        "\n",
        "If you would like to run this notebook through collab, then please use the following link:\n",
        "\n",
        "[![Open In Colab](https://colab.research.google.com/assets/colab-badge.svg)](https://colab.research.google.com/github/mdblackledge/stan_examples/blob/main/notebooks/doughnut_seminar_2023.ipynb)"
      ]
    },
    {
      "cell_type": "markdown",
      "source": [
        "### Library installation\n",
        "First we need to check that all relevant libraries are installed"
      ],
      "metadata": {
        "id": "tu3AXGbW9Wwz"
      },
      "id": "tu3AXGbW9Wwz"
    },
    {
      "cell_type": "code",
      "source": [
        "!pip install pystan arviz"
      ],
      "metadata": {
        "colab": {
          "base_uri": "https://localhost:8080/"
        },
        "id": "dL9cKCdd9WFL",
        "outputId": "771a2b3a-3348-494a-a69a-6e06f962868c"
      },
      "id": "dL9cKCdd9WFL",
      "execution_count": 1,
      "outputs": [
        {
          "output_type": "stream",
          "name": "stdout",
          "text": [
            "Collecting pystan\n",
            "  Downloading pystan-3.7.0-py3-none-any.whl (13 kB)\n",
            "Requirement already satisfied: arviz in /usr/local/lib/python3.10/dist-packages (0.15.1)\n",
            "Requirement already satisfied: aiohttp<4.0,>=3.6 in /usr/local/lib/python3.10/dist-packages (from pystan) (3.9.1)\n",
            "Collecting clikit<0.7,>=0.6 (from pystan)\n",
            "  Downloading clikit-0.6.2-py2.py3-none-any.whl (91 kB)\n",
            "\u001b[2K     \u001b[90m━━━━━━━━━━━━━━━━━━━━━━━━━━━━━━━━━━━━━━━━\u001b[0m \u001b[32m91.8/91.8 kB\u001b[0m \u001b[31m3.2 MB/s\u001b[0m eta \u001b[36m0:00:00\u001b[0m\n",
            "\u001b[?25hCollecting httpstan<4.11,>=4.10 (from pystan)\n",
            "  Downloading httpstan-4.10.1-cp310-cp310-manylinux_2_17_x86_64.manylinux2014_x86_64.whl (44.4 MB)\n",
            "\u001b[2K     \u001b[90m━━━━━━━━━━━━━━━━━━━━━━━━━━━━━━━━━━━━━━━━\u001b[0m \u001b[32m44.4/44.4 MB\u001b[0m \u001b[31m17.7 MB/s\u001b[0m eta \u001b[36m0:00:00\u001b[0m\n",
            "\u001b[?25hRequirement already satisfied: numpy<2.0,>=1.19 in /usr/local/lib/python3.10/dist-packages (from pystan) (1.23.5)\n",
            "Collecting pysimdjson<6.0.0,>=5.0.2 (from pystan)\n",
            "  Downloading pysimdjson-5.0.2-cp310-cp310-manylinux_2_17_x86_64.manylinux2014_x86_64.whl (1.8 MB)\n",
            "\u001b[2K     \u001b[90m━━━━━━━━━━━━━━━━━━━━━━━━━━━━━━━━━━━━━━━━\u001b[0m \u001b[32m1.8/1.8 MB\u001b[0m \u001b[31m87.3 MB/s\u001b[0m eta \u001b[36m0:00:00\u001b[0m\n",
            "\u001b[?25hRequirement already satisfied: setuptools in /usr/local/lib/python3.10/dist-packages (from pystan) (67.7.2)\n",
            "Requirement already satisfied: matplotlib>=3.2 in /usr/local/lib/python3.10/dist-packages (from arviz) (3.7.1)\n",
            "Requirement already satisfied: scipy>=1.8.0 in /usr/local/lib/python3.10/dist-packages (from arviz) (1.11.4)\n",
            "Requirement already satisfied: packaging in /usr/local/lib/python3.10/dist-packages (from arviz) (23.2)\n",
            "Requirement already satisfied: pandas>=1.3.0 in /usr/local/lib/python3.10/dist-packages (from arviz) (1.5.3)\n",
            "Requirement already satisfied: xarray>=0.21.0 in /usr/local/lib/python3.10/dist-packages (from arviz) (2023.7.0)\n",
            "Requirement already satisfied: h5netcdf>=1.0.2 in /usr/local/lib/python3.10/dist-packages (from arviz) (1.3.0)\n",
            "Requirement already satisfied: typing-extensions>=4.1.0 in /usr/local/lib/python3.10/dist-packages (from arviz) (4.5.0)\n",
            "Requirement already satisfied: xarray-einstats>=0.3 in /usr/local/lib/python3.10/dist-packages (from arviz) (0.6.0)\n",
            "Requirement already satisfied: attrs>=17.3.0 in /usr/local/lib/python3.10/dist-packages (from aiohttp<4.0,>=3.6->pystan) (23.1.0)\n",
            "Requirement already satisfied: multidict<7.0,>=4.5 in /usr/local/lib/python3.10/dist-packages (from aiohttp<4.0,>=3.6->pystan) (6.0.4)\n",
            "Requirement already satisfied: yarl<2.0,>=1.0 in /usr/local/lib/python3.10/dist-packages (from aiohttp<4.0,>=3.6->pystan) (1.9.3)\n",
            "Requirement already satisfied: frozenlist>=1.1.1 in /usr/local/lib/python3.10/dist-packages (from aiohttp<4.0,>=3.6->pystan) (1.4.0)\n",
            "Requirement already satisfied: aiosignal>=1.1.2 in /usr/local/lib/python3.10/dist-packages (from aiohttp<4.0,>=3.6->pystan) (1.3.1)\n",
            "Requirement already satisfied: async-timeout<5.0,>=4.0 in /usr/local/lib/python3.10/dist-packages (from aiohttp<4.0,>=3.6->pystan) (4.0.3)\n",
            "Collecting crashtest<0.4.0,>=0.3.0 (from clikit<0.7,>=0.6->pystan)\n",
            "  Downloading crashtest-0.3.1-py3-none-any.whl (7.0 kB)\n",
            "Collecting pastel<0.3.0,>=0.2.0 (from clikit<0.7,>=0.6->pystan)\n",
            "  Downloading pastel-0.2.1-py2.py3-none-any.whl (6.0 kB)\n",
            "Collecting pylev<2.0,>=1.3 (from clikit<0.7,>=0.6->pystan)\n",
            "  Downloading pylev-1.4.0-py2.py3-none-any.whl (6.1 kB)\n",
            "Requirement already satisfied: h5py in /usr/local/lib/python3.10/dist-packages (from h5netcdf>=1.0.2->arviz) (3.9.0)\n",
            "Requirement already satisfied: appdirs<2.0,>=1.4 in /usr/local/lib/python3.10/dist-packages (from httpstan<4.11,>=4.10->pystan) (1.4.4)\n",
            "Collecting marshmallow<4.0,>=3.10 (from httpstan<4.11,>=4.10->pystan)\n",
            "  Downloading marshmallow-3.20.1-py3-none-any.whl (49 kB)\n",
            "\u001b[2K     \u001b[90m━━━━━━━━━━━━━━━━━━━━━━━━━━━━━━━━━━━━━━━━\u001b[0m \u001b[32m49.4/49.4 kB\u001b[0m \u001b[31m5.8 MB/s\u001b[0m eta \u001b[36m0:00:00\u001b[0m\n",
            "\u001b[?25hCollecting webargs<9.0,>=8.0 (from httpstan<4.11,>=4.10->pystan)\n",
            "  Downloading webargs-8.3.0-py3-none-any.whl (31 kB)\n",
            "Requirement already satisfied: contourpy>=1.0.1 in /usr/local/lib/python3.10/dist-packages (from matplotlib>=3.2->arviz) (1.2.0)\n",
            "Requirement already satisfied: cycler>=0.10 in /usr/local/lib/python3.10/dist-packages (from matplotlib>=3.2->arviz) (0.12.1)\n",
            "Requirement already satisfied: fonttools>=4.22.0 in /usr/local/lib/python3.10/dist-packages (from matplotlib>=3.2->arviz) (4.45.1)\n",
            "Requirement already satisfied: kiwisolver>=1.0.1 in /usr/local/lib/python3.10/dist-packages (from matplotlib>=3.2->arviz) (1.4.5)\n",
            "Requirement already satisfied: pillow>=6.2.0 in /usr/local/lib/python3.10/dist-packages (from matplotlib>=3.2->arviz) (9.4.0)\n",
            "Requirement already satisfied: pyparsing>=2.3.1 in /usr/local/lib/python3.10/dist-packages (from matplotlib>=3.2->arviz) (3.1.1)\n",
            "Requirement already satisfied: python-dateutil>=2.7 in /usr/local/lib/python3.10/dist-packages (from matplotlib>=3.2->arviz) (2.8.2)\n",
            "Requirement already satisfied: pytz>=2020.1 in /usr/local/lib/python3.10/dist-packages (from pandas>=1.3.0->arviz) (2023.3.post1)\n",
            "Requirement already satisfied: six>=1.5 in /usr/local/lib/python3.10/dist-packages (from python-dateutil>=2.7->matplotlib>=3.2->arviz) (1.16.0)\n",
            "Requirement already satisfied: idna>=2.0 in /usr/local/lib/python3.10/dist-packages (from yarl<2.0,>=1.0->aiohttp<4.0,>=3.6->pystan) (3.6)\n",
            "Installing collected packages: pylev, pysimdjson, pastel, marshmallow, crashtest, webargs, clikit, httpstan, pystan\n",
            "Successfully installed clikit-0.6.2 crashtest-0.3.1 httpstan-4.10.1 marshmallow-3.20.1 pastel-0.2.1 pylev-1.4.0 pysimdjson-5.0.2 pystan-3.7.0 webargs-8.3.0\n"
          ]
        }
      ]
    },
    {
      "cell_type": "markdown",
      "source": [
        "### Library Import\n",
        "\n",
        "Import all relevant libraries.  Note that for Stan to work in Jupyter, we also need nest_asyncio!"
      ],
      "metadata": {
        "id": "6eWfTZCr9v9X"
      },
      "id": "6eWfTZCr9v9X"
    },
    {
      "cell_type": "code",
      "source": [
        "import nest_asyncio\n",
        "nest_asyncio.apply()\n",
        "import httpstan\n",
        "import stan\n",
        "\n",
        "import numpy as np\n",
        "import matplotlib.pyplot as plt"
      ],
      "metadata": {
        "id": "Lw_kQugH9zbK"
      },
      "id": "Lw_kQugH9zbK",
      "execution_count": 2,
      "outputs": []
    },
    {
      "cell_type": "markdown",
      "source": [
        "## Example 1. Basic usage\n",
        "In this example we will create a very simple model to demonstrate how to estimat the mean and standard deviation of data sampled from a normal distribution:\n",
        "$$\n",
        "x_{i} \\sim \\mathcal{N}(\\mu, \\sigma)\n",
        "$$\n",
        "\n",
        "In this initial example we will assume uniform priors for the mean and standard deviation, though note that these are \"improper\"!"
      ],
      "metadata": {
        "id": "GQBnKjX5-PCt"
      },
      "id": "GQBnKjX5-PCt"
    },
    {
      "cell_type": "code",
      "source": [
        "# Define the model string\n",
        "\n",
        "simple_model = \"\"\"\n",
        "data {\n",
        "    int<lower = 1> N;  // All lines must end with a semicolon.\n",
        "    array[N] real x;\n",
        "}\n",
        "parameters {\n",
        "    real mu;\n",
        "    real<lower = 0> sigma;\n",
        "}\n",
        "model {\n",
        "    for (n in 1:N) {\n",
        "        target += normal_lpdf(x[n] | mu, sigma);\n",
        "    }\n",
        "}\n",
        "\"\"\"\n",
        "\n",
        "# Synthesize some data\n",
        "N = 40\n",
        "x = np.random.normal(loc = 2.0, scale = 3.0, size = N)\n",
        "\n",
        "# Build the model.  This will take some time the first time it is run!\n",
        "model = stan.build(simple_model, data = {\"N\": N, \"x\": x})\n",
        "\n",
        "# Draw some samples\n",
        "samples = model.sample(num_samples = 5000,  # How many samples to we want?\n",
        "                       num_warmup = 500,  # How many samples to discard from the beginning?\n",
        "                       num_chains = 2,  # How many indpendent sample chains do we want? At least 2 for diagnostics!\n",
        "                       num_thin = 1)  # Do we want to reduce correlations?"
      ],
      "metadata": {
        "id": "c_Lb2CWy-CQF",
        "outputId": "0f28c59e-177f-4fe4-b334-981fdceb14e7",
        "colab": {
          "base_uri": "https://localhost:8080/"
        }
      },
      "id": "c_Lb2CWy-CQF",
      "execution_count": 4,
      "outputs": [
        {
          "output_type": "stream",
          "name": "stdout",
          "text": [
            "Building...\n"
          ]
        },
        {
          "output_type": "stream",
          "name": "stderr",
          "text": [
            "\n",
            "Building: 32.6s, done.Messages from stanc:\n",
            "Warning: The parameter sigma has no priors. This means either no prior is\n",
            "    provided, or the prior(s) depend on data variables. In the later case,\n",
            "    this may be a false positive.\n",
            "Warning: The parameter mu has no priors. This means either no prior is\n",
            "    provided, or the prior(s) depend on data variables. In the later case,\n",
            "    this may be a false positive.\n",
            "Sampling:   0%\n",
            "Sampling:  50% (5500/11000)\n",
            "Sampling: 100% (11000/11000)\n",
            "Sampling: 100% (11000/11000), done.\n",
            "Messages received during sampling:\n",
            "  Gradient evaluation took 3.6e-05 seconds\n",
            "  1000 transitions using 10 leapfrog steps per transition would take 0.36 seconds.\n",
            "  Adjust your expectations accordingly!\n",
            "  Gradient evaluation took 2.6e-05 seconds\n",
            "  1000 transitions using 10 leapfrog steps per transition would take 0.26 seconds.\n",
            "  Adjust your expectations accordingly!\n"
          ]
        }
      ]
    },
    {
      "cell_type": "markdown",
      "source": [
        "## A small"
      ],
      "metadata": {
        "id": "aCF-5J1LEaXz"
      },
      "id": "aCF-5J1LEaXz"
    },
    {
      "cell_type": "code",
      "source": [],
      "metadata": {
        "id": "I_XRioMJEaAz"
      },
      "id": "I_XRioMJEaAz",
      "execution_count": null,
      "outputs": []
    },
    {
      "cell_type": "code",
      "source": [],
      "metadata": {
        "id": "iPtt_uPdDykT"
      },
      "id": "iPtt_uPdDykT",
      "execution_count": null,
      "outputs": []
    }
  ],
  "metadata": {
    "kernelspec": {
      "display_name": "Python 3 (ipykernel)",
      "language": "python",
      "name": "python3"
    },
    "language_info": {
      "codemirror_mode": {
        "name": "ipython",
        "version": 3
      },
      "file_extension": ".py",
      "mimetype": "text/x-python",
      "name": "python",
      "nbconvert_exporter": "python",
      "pygments_lexer": "ipython3",
      "version": "3.11.0"
    },
    "colab": {
      "provenance": []
    }
  },
  "nbformat": 4,
  "nbformat_minor": 5
}